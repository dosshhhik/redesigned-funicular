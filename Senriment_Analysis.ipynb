{
 "cells": [
  {
   "cell_type": "markdown",
   "source": [
    "# Sentiment analysis on reviews\n"
   ],
   "metadata": {
    "collapsed": false
   }
  },
  {
   "cell_type": "code",
   "execution_count": 883,
   "outputs": [],
   "source": [
    "import re\n",
    "import pickle\n",
    "import contractions\n",
    "import nltk\n",
    "import pandas as pd\n",
    "from sklearn.feature_extraction.text import TfidfVectorizer\n",
    "from sklearn.feature_selection import chi2, SelectKBest\n",
    "\n",
    "from sklearn.model_selection import GridSearchCV, StratifiedShuffleSplit, train_test_split\n",
    "from sklearn.metrics import accuracy_score, precision_score, recall_score, f1_score, balanced_accuracy_score\n",
    "from sklearn.pipeline import Pipeline\n",
    "from sklearn.svm import SVC\n",
    "import numpy as np\n",
    "import scipy"
   ],
   "metadata": {
    "collapsed": false
   }
  },
  {
   "cell_type": "code",
   "execution_count": 884,
   "outputs": [],
   "source": [
    "INPUT_DATA_FOLDER = 'data'\n",
    "REVIEWS = 'reviews.csv'\n",
    "LABELS = 'labels.csv'\n"
   ],
   "metadata": {
    "collapsed": false
   }
  },
  {
   "cell_type": "code",
   "execution_count": 885,
   "outputs": [],
   "source": [
    "reviews = pd.read_csv(f\"{INPUT_DATA_FOLDER}/{REVIEWS}\")\n",
    "labels = pd.read_csv(f\"{INPUT_DATA_FOLDER}/{LABELS}\")\n"
   ],
   "metadata": {
    "collapsed": false
   }
  },
  {
   "cell_type": "markdown",
   "source": [
    "## EDA"
   ],
   "metadata": {
    "collapsed": false
   }
  },
  {
   "cell_type": "code",
   "execution_count": 886,
   "outputs": [
    {
     "data": {
      "text/plain": "      id                                               text\n0    168  Hi Leah, I ordered this early to give to a co-...\n1     26  Good evening, \\n  I just received my order! I ...\n2     64  I couldn’t find where I could write a review b...\n3     10  I received my order today and gave it to my si...\n4    111  ﻿Max,\\n\\nWe received the heart but sadly are d...\n..   ...                                                ...\n249  189    Thank you, this is beautiful and they loved it.\n250   72                    Thanks so much. They lookgreat!\n251  107  Emily, \\n  THANK YOU so much for the new “bric...\n252  271  Jacqueline,  \\n  I just received the replaceme...\n253  103  Order #(857)982-509708\\nI just received my ord...\n\n[254 rows x 2 columns]",
      "text/html": "<div>\n<style scoped>\n    .dataframe tbody tr th:only-of-type {\n        vertical-align: middle;\n    }\n\n    .dataframe tbody tr th {\n        vertical-align: top;\n    }\n\n    .dataframe thead th {\n        text-align: right;\n    }\n</style>\n<table border=\"1\" class=\"dataframe\">\n  <thead>\n    <tr style=\"text-align: right;\">\n      <th></th>\n      <th>id</th>\n      <th>text</th>\n    </tr>\n  </thead>\n  <tbody>\n    <tr>\n      <th>0</th>\n      <td>168</td>\n      <td>Hi Leah, I ordered this early to give to a co-...</td>\n    </tr>\n    <tr>\n      <th>1</th>\n      <td>26</td>\n      <td>Good evening, \\n  I just received my order! I ...</td>\n    </tr>\n    <tr>\n      <th>2</th>\n      <td>64</td>\n      <td>I couldn’t find where I could write a review b...</td>\n    </tr>\n    <tr>\n      <th>3</th>\n      <td>10</td>\n      <td>I received my order today and gave it to my si...</td>\n    </tr>\n    <tr>\n      <th>4</th>\n      <td>111</td>\n      <td>﻿Max,\\n\\nWe received the heart but sadly are d...</td>\n    </tr>\n    <tr>\n      <th>...</th>\n      <td>...</td>\n      <td>...</td>\n    </tr>\n    <tr>\n      <th>249</th>\n      <td>189</td>\n      <td>Thank you, this is beautiful and they loved it.</td>\n    </tr>\n    <tr>\n      <th>250</th>\n      <td>72</td>\n      <td>Thanks so much. They lookgreat!</td>\n    </tr>\n    <tr>\n      <th>251</th>\n      <td>107</td>\n      <td>Emily, \\n  THANK YOU so much for the new “bric...</td>\n    </tr>\n    <tr>\n      <th>252</th>\n      <td>271</td>\n      <td>Jacqueline,  \\n  I just received the replaceme...</td>\n    </tr>\n    <tr>\n      <th>253</th>\n      <td>103</td>\n      <td>Order #(857)982-509708\\nI just received my ord...</td>\n    </tr>\n  </tbody>\n</table>\n<p>254 rows × 2 columns</p>\n</div>"
     },
     "execution_count": 886,
     "metadata": {},
     "output_type": "execute_result"
    }
   ],
   "source": [
    "reviews"
   ],
   "metadata": {
    "collapsed": false
   }
  },
  {
   "cell_type": "code",
   "execution_count": 887,
   "outputs": [],
   "source": [
    "data = reviews"
   ],
   "metadata": {
    "collapsed": false
   }
  },
  {
   "cell_type": "code",
   "execution_count": 888,
   "outputs": [
    {
     "data": {
      "text/plain": "<AxesSubplot:xlabel='sentiment'>"
     },
     "execution_count": 888,
     "metadata": {},
     "output_type": "execute_result"
    },
    {
     "data": {
      "text/plain": "<Figure size 432x288 with 1 Axes>",
      "image/png": "[encoded data removed]"
     },
     "metadata": {
      "needs_background": "light"
     },
     "output_type": "display_data"
    }
   ],
   "source": [
    "# check the distribution\n",
    "\n",
    "labels.groupby('sentiment').count().plot(kind = 'bar')\n"
   ],
   "metadata": {
    "collapsed": false
   }
  },
  {
   "cell_type": "markdown",
   "source": [
    "In this case of slight dataset imbalance, where one class has a minor numerical deficit compared to another (e.g., 100 vs. 140 samples), undersampling the majority class isn't necessary. Undersampling reduces data but isn't needed here. Instead, I will use balanced accuracy scoring during hypeparameters tuning."
   ],
   "metadata": {
    "collapsed": false
   }
  },
  {
   "cell_type": "code",
   "execution_count": 889,
   "outputs": [],
   "source": [
    "labels['sentiment'] = labels['sentiment'].apply(lambda x: 1 if x=='Positive' else 0)\n",
    "\n",
    "#targets = targets.map({'Positive': 1, 'Negative': 0}).astype(int)"
   ],
   "metadata": {
    "collapsed": false
   }
  },
  {
   "cell_type": "code",
   "execution_count": 890,
   "outputs": [
    {
     "name": "stdout",
     "output_type": "stream",
     "text": [
      "<class 'pandas.core.frame.DataFrame'>\n",
      "RangeIndex: 254 entries, 0 to 253\n",
      "Data columns (total 2 columns):\n",
      " #   Column  Non-Null Count  Dtype \n",
      "---  ------  --------------  ----- \n",
      " 0   id      254 non-null    int64 \n",
      " 1   text    254 non-null    object\n",
      "dtypes: int64(1), object(1)\n",
      "memory usage: 4.1+ KB\n"
     ]
    }
   ],
   "source": [
    "data.info()"
   ],
   "metadata": {
    "collapsed": false
   }
  },
  {
   "cell_type": "markdown",
   "source": [
    "## Data Preprocessing\n"
   ],
   "metadata": {
    "collapsed": false
   }
  },
  {
   "cell_type": "code",
   "execution_count": 891,
   "outputs": [],
   "source": [
    "def clean_text(text):\n",
    "    text = text.lower()\n",
    "    text = re.sub(r'sent from.*', '', text)\n",
    "    text = re.sub('\\\\n', ' ', text)\n",
    "    text = re.sub('’', \"'\", text)\n",
    "\n",
    "    text = contractions.fix(text)\n",
    "\n",
    "    punctuations = '''()-[]{};:.'”“\"\\<>|./@#$%^&*_~'''\n",
    "    for x in text:\n",
    "        if x in punctuations:\n",
    "            text = text.replace(x, \"\")\n",
    "    text = re.sub(\",\", ' ', text)\n",
    "\n",
    "    text = re.sub(r\"\\'s\", ' ', text)\n",
    "    text = re.sub(r'(.)\\1\\1+', r'\\1', text)\n",
    "    text = re.sub(r'\\d+', \"\", text)\n",
    "    text = text.strip()\n",
    "\n",
    "    return text\n"
   ],
   "metadata": {
    "collapsed": false
   }
  },
  {
   "cell_type": "code",
   "execution_count": 892,
   "outputs": [],
   "source": [
    "data['clean_text'] = data['text'].apply(lambda x : clean_text(x))"
   ],
   "metadata": {
    "collapsed": false
   }
  },
  {
   "cell_type": "code",
   "execution_count": 893,
   "outputs": [
    {
     "data": {
      "text/plain": "0    hi leah  i ordered this early to give to a cow...\n1    good evening i just received my order! i have ...\n2    i could not find where i could write a review ...\n3    i received my order today and gave it to my si...\n4    ﻿max we received the heart but sadly are disap...\nName: clean_text, dtype: object"
     },
     "execution_count": 893,
     "metadata": {},
     "output_type": "execute_result"
    }
   ],
   "source": [
    "data['clean_text'].head()"
   ],
   "metadata": {
    "collapsed": false
   }
  },
  {
   "cell_type": "code",
   "execution_count": 894,
   "outputs": [],
   "source": [
    "#stemming\n",
    "def stemming(data):\n",
    "    stemmer = nltk.PorterStemmer()\n",
    "    tokens = nltk.word_tokenize(str(data))\n",
    "    new_text = ''\n",
    "    for t in tokens:\n",
    "       new_text = new_text + ' '+ stemmer.stem(t)\n",
    "    return new_text"
   ],
   "metadata": {
    "collapsed": false
   }
  },
  {
   "cell_type": "code",
   "execution_count": 895,
   "outputs": [],
   "source": [
    "data['stemmed'] = data['clean_text'].apply(lambda x : stemming(x))"
   ],
   "metadata": {
    "collapsed": false
   }
  },
  {
   "cell_type": "code",
   "execution_count": 896,
   "outputs": [
    {
     "data": {
      "text/plain": "0       hi leah i order thi earli to give to a cowork...\n1       good even i just receiv my order ! i have to ...\n2       i could not find where i could write a review...\n3       i receiv my order today and gave it to my sis...\n4       ﻿max we receiv the heart but sadli are disapp...\n                             ...                        \n249             thank you thi is beauti and they love it\n250                       thank so much they lookgreat !\n251     emili thank you so much for the new brick ite...\n252     jacquelin i just receiv the replac base and i...\n253     order i just receiv my order ! they are fanta...\nName: stemmed, Length: 254, dtype: object"
     },
     "execution_count": 896,
     "metadata": {},
     "output_type": "execute_result"
    }
   ],
   "source": [
    "data.stemmed"
   ],
   "metadata": {
    "collapsed": false
   }
  },
  {
   "cell_type": "markdown",
   "source": [
    "## 2. Feature extraction (TF-IDF)"
   ],
   "metadata": {
    "collapsed": false
   }
  },
  {
   "cell_type": "code",
   "execution_count": 897,
   "outputs": [],
   "source": [
    "vectorizer = TfidfVectorizer()\n",
    "tf_idf_cleaned = vectorizer.fit_transform(data['clean_text'])\n",
    "tf_idf_stemmed = vectorizer.fit_transform(data['stemmed'])"
   ],
   "metadata": {
    "collapsed": false
   }
  },
  {
   "cell_type": "markdown",
   "source": [
    "### CHi-squared testing:"
   ],
   "metadata": {
    "collapsed": false
   }
  },
  {
   "cell_type": "code",
   "execution_count": 898,
   "outputs": [],
   "source": [
    "targets = labels['sentiment'].array"
   ],
   "metadata": {
    "collapsed": false
   }
  },
  {
   "cell_type": "code",
   "execution_count": 899,
   "outputs": [],
   "source": [
    "scores_cleaned, pvalues = chi2(tf_idf_cleaned, targets)\n",
    "scores_stemmed, pvalues = chi2(tf_idf_stemmed, targets)\n"
   ],
   "metadata": {
    "collapsed": false
   }
  },
  {
   "cell_type": "code",
   "execution_count": 900,
   "outputs": [],
   "source": [
    "alpha = 0.15\n",
    "\n",
    "# Determine the critical value for chi-squared\n",
    "critical_value = scipy.stats.chi2.ppf(1 - alpha, df=1) #setting df=1 we assume that each feature is independent"
   ],
   "metadata": {
    "collapsed": false
   }
  },
  {
   "cell_type": "code",
   "execution_count": 901,
   "outputs": [],
   "source": [
    "selected_features_cleaned = tf_idf_cleaned[:, scores_cleaned > critical_value]\n",
    "selected_features_stemmed = tf_idf_stemmed[:, scores_stemmed > critical_value]\n"
   ],
   "metadata": {
    "collapsed": false
   }
  },
  {
   "cell_type": "markdown",
   "source": [
    "## Model training"
   ],
   "metadata": {
    "collapsed": false
   }
  },
  {
   "cell_type": "markdown",
   "source": [
    "#### SVM classificator"
   ],
   "metadata": {
    "collapsed": false
   }
  },
  {
   "cell_type": "code",
   "execution_count": 902,
   "outputs": [
    {
     "name": "stdout",
     "output_type": "stream",
     "text": [
      "The best parameters are {'C': 100.0, 'gamma': 0.1} with a score of 0.94\n",
      "Accuracy on Test Set: 0.9232\n",
      "----------------------------------------\n",
      "The best parameters are {'C': 10.0, 'gamma': 0.1} with a score of 0.95\n",
      "Accuracy on Test Set: 0.9545\n",
      "----------------------------------------\n",
      "The best parameters are {'C': 1000000.0, 'gamma': 1e-06} with a score of 0.96\n",
      "Accuracy on Test Set: 0.9375\n",
      "----------------------------------------\n",
      "The best parameters are {'C': 1000000000.0, 'gamma': 1e-06} with a score of 0.97\n",
      "Accuracy on Test Set: 0.9232\n",
      "----------------------------------------\n"
     ]
    }
   ],
   "source": [
    "#applying a model on cleaned and stemmed data with and without chi-squared feature selection.\n",
    "X = [tf_idf_cleaned, tf_idf_stemmed, selected_features_cleaned, selected_features_stemmed]\n",
    "y = targets\n",
    "\n",
    "for x in X:\n",
    "    X_train, X_test, y_train, y_test = train_test_split(x, y, test_size=0.2, random_state=42)\n",
    "\n",
    "    # Create an SVM classifier\n",
    "    svm_classifier = SVC(kernel = 'rbf')\n",
    "\n",
    "    C_range = np.logspace(-2, 10, 13)\n",
    "    #C_range = [1, 10, 0.1, 100]\n",
    "    gamma_range = np.logspace(-9, 3, 13)\n",
    "    #gamma_range = [1/X_train.shape[1], 0.001, 0.00001, 1, 10]\n",
    "\n",
    "    param_grid = dict(gamma=gamma_range, C=C_range)\n",
    "\n",
    "    cv = StratifiedShuffleSplit(n_splits=5, test_size=0.2, random_state=42)\n",
    "    grid = GridSearchCV(estimator=svm_classifier, param_grid=param_grid, cv=cv, scoring='balanced_accuracy')\n",
    "    grid.fit(X_train, y_train)\n",
    "    best_params = grid.best_params_\n",
    "    best_model = grid.best_estimator_\n",
    "\n",
    "\n",
    "    print(\n",
    "        \"The best parameters are %s with a score of %0.2f\"\n",
    "        % (best_params ,grid.best_score_)\n",
    "    )\n",
    "\n",
    "\n",
    "    y_pred = best_model.predict(X_test)\n",
    "\n",
    "    accuracy = balanced_accuracy_score(y_test, y_pred)\n",
    "    print(f'Accuracy on Test Set: {accuracy:.4f}')\n",
    "    print ('----------------------------------------')\n"
   ],
   "metadata": {
    "collapsed": false
   }
  },
  {
   "cell_type": "markdown",
   "source": [
    "#### Model evaluation"
   ],
   "metadata": {
    "collapsed": false
   }
  },
  {
   "cell_type": "code",
   "execution_count": 903,
   "outputs": [
    {
     "name": "stdout",
     "output_type": "stream",
     "text": [
      "   Accuracy  Precision    Recall  F1-Score\n",
      "0  0.862745   0.956522  0.785714  0.862745\n",
      "1  0.862745   0.956522  0.785714  0.862745\n",
      "2  0.980392   1.000000  0.964286  0.981818\n",
      "3  0.980392   0.965517  1.000000  0.982456\n"
     ]
    }
   ],
   "source": [
    "metrics_data = []\n",
    "\n",
    "for x in X:\n",
    "    X_train, X_test, y_train, y_test = train_test_split(x, y, test_size=0.2, random_state=2)\n",
    "\n",
    "    model = best_model\n",
    "    model.fit(X_train, y_train)\n",
    "    predictions = model.predict(X_test)\n",
    "\n",
    "    accuracy = accuracy_score(y_test, predictions)\n",
    "    precision = precision_score(y_test, predictions)\n",
    "    recall = recall_score(y_test, predictions)\n",
    "    f1 = f1_score(y_test, predictions)\n",
    "\n",
    "    # Append metrics to the list\n",
    "    metrics_data.append([accuracy, precision, recall, f1])\n",
    "\n",
    "# Create a DataFrame to store the metrics\n",
    "metrics_df = pd.DataFrame(metrics_data, columns=['Accuracy', 'Precision', 'Recall', 'F1-Score'])\n",
    "\n",
    "# Print the table of evaluation metrics\n",
    "print(metrics_df)\n"
   ],
   "metadata": {
    "collapsed": false
   }
  },
  {
   "cell_type": "markdown",
   "source": [
    "### Putting all together"
   ],
   "metadata": {
    "collapsed": false
   }
  },
  {
   "cell_type": "code",
   "execution_count": 904,
   "outputs": [],
   "source": [
    "X = data['stemmed']\n",
    "y = targets"
   ],
   "metadata": {
    "collapsed": false
   }
  },
  {
   "cell_type": "code",
   "execution_count": 905,
   "outputs": [],
   "source": [
    "X_train_new, X_test_new, y_train_new, y_test_new = train_test_split(X, y, test_size=0.2, random_state= 1)\n"
   ],
   "metadata": {
    "collapsed": false
   }
  },
  {
   "cell_type": "code",
   "execution_count": 906,
   "outputs": [],
   "source": [
    "text_clf = Pipeline([\n",
    "        ('tfidf', TfidfVectorizer()),\n",
    "        ('feature_selection', SelectKBest(chi2, k=1000)),\n",
    "        ('clf', SVC()),\n",
    "    ])"
   ],
   "metadata": {
    "collapsed": false
   }
  },
  {
   "cell_type": "code",
   "execution_count": 907,
   "outputs": [],
   "source": [
    "param_grid = dict(clf__C= np.logspace(-2, 10, 13), clf__gamma = np.logspace(-9, 3, 9) )\n",
    "grid_new = GridSearchCV(text_clf,param_grid= param_grid , cv=5, scoring = 'balanced_accuracy' )\n"
   ],
   "metadata": {
    "collapsed": false
   }
  },
  {
   "cell_type": "code",
   "execution_count": 908,
   "outputs": [
    {
     "data": {
      "text/plain": "GridSearchCV(cv=5,\n             estimator=Pipeline(steps=[('tfidf', TfidfVectorizer()),\n                                       ('feature_selection',\n                                        SelectKBest(k=1000,\n                                                    score_func=<function chi2 at 0x0000022E6D4AAA60>)),\n                                       ('clf', SVC())]),\n             param_grid={'clf__C': array([1.e-02, 1.e-01, 1.e+00, 1.e+01, 1.e+02, 1.e+03, 1.e+04, 1.e+05,\n       1.e+06, 1.e+07, 1.e+08, 1.e+09, 1.e+10]),\n                         'clf__gamma': array([1.00000000e-09, 3.16227766e-08, 1.00000000e-06, 3.16227766e-05,\n       1.00000000e-03, 3.16227766e-02, 1.00000000e+00, 3.16227766e+01,\n       1.00000000e+03])},\n             scoring='balanced_accuracy')"
     },
     "execution_count": 908,
     "metadata": {},
     "output_type": "execute_result"
    }
   ],
   "source": [
    "grid_new.fit(X_train_new, y_train_new)"
   ],
   "metadata": {
    "collapsed": false
   }
  },
  {
   "cell_type": "code",
   "execution_count": 909,
   "outputs": [
    {
     "data": {
      "text/plain": "{'clf__C': 100.0, 'clf__gamma': 0.03162277660168379}"
     },
     "execution_count": 909,
     "metadata": {},
     "output_type": "execute_result"
    }
   ],
   "source": [
    "#select model with best params\n",
    "grid_new.best_params_"
   ],
   "metadata": {
    "collapsed": false
   }
  },
  {
   "cell_type": "code",
   "execution_count": 910,
   "outputs": [
    {
     "data": {
      "text/plain": "0.96"
     },
     "execution_count": 910,
     "metadata": {},
     "output_type": "execute_result"
    }
   ],
   "source": [
    "grid_new.best_score_"
   ],
   "metadata": {
    "collapsed": false
   }
  },
  {
   "cell_type": "code",
   "execution_count": 911,
   "outputs": [],
   "source": [
    "pred_new = grid_new.predict(X_test_new)"
   ],
   "metadata": {
    "collapsed": false
   }
  },
  {
   "cell_type": "code",
   "execution_count": 912,
   "outputs": [],
   "source": [
    "accuracy = accuracy_score(y_test_new, pred_new)\n",
    "precision = precision_score(y_test_new, pred_new)\n",
    "recall = recall_score(y_test_new, pred_new)\n",
    "f1 = f1_score(y_test_new, pred_new)"
   ],
   "metadata": {
    "collapsed": false
   }
  },
  {
   "cell_type": "code",
   "execution_count": 913,
   "outputs": [
    {
     "data": {
      "text/plain": "0.9411764705882353"
     },
     "execution_count": 913,
     "metadata": {},
     "output_type": "execute_result"
    }
   ],
   "source": [
    "accuracy"
   ],
   "metadata": {
    "collapsed": false
   }
  },
  {
   "cell_type": "code",
   "execution_count": 914,
   "outputs": [
    {
     "name": "stdout",
     "output_type": "stream",
     "text": [
      "Accuracy on Test Set: 0.9286\n"
     ]
    }
   ],
   "source": [
    "accuracy1= precision_score(y_test_new, grid_new.predict(X_test_new))\n",
    "print(f'Accuracy on Test Set: {accuracy1:.4f}')\n",
    "\n"
   ],
   "metadata": {
    "collapsed": false
   }
  },
  {
   "cell_type": "code",
   "execution_count": 915,
   "outputs": [
    {
     "name": "stdout",
     "output_type": "stream",
     "text": [
      "Metric\t\tValue\n",
      "-----------------------\n",
      "Accuracy:\t\t0.9412\n",
      "Precision:\t\t0.9286\n",
      "Recall:\t\t0.9630\n",
      "F1-Score:\t\t0.9455\n"
     ]
    }
   ],
   "source": [
    "metrics_dict = {\n",
    "    'Accuracy': accuracy,\n",
    "    'Precision': precision,\n",
    "    'Recall': recall,\n",
    "    'F1-Score': f1\n",
    "}\n",
    "print(\"Metric\\t\\tValue\")\n",
    "print(\"-----------------------\")\n",
    "for metric, value in metrics_dict.items():\n",
    "    print(f\"{metric}:\\t\\t{value:.4f}\")"
   ],
   "metadata": {
    "collapsed": false
   }
  },
  {
   "cell_type": "code",
   "execution_count": 916,
   "outputs": [],
   "source": [
    "\n",
    "#saving the model\n",
    "finalized_model = grid_new.best_estimator_\n",
    "with open('finalized_model.pkl', 'wb') as model_file:\n",
    "    pickle.dump(finalized_model, model_file)"
   ],
   "metadata": {
    "collapsed": false
   }
  },
  {
   "cell_type": "code",
   "execution_count": 917,
   "outputs": [],
   "source": [
    "# with open('finalized_model.pkl', 'rb') as model_file:\n",
    "#     my_model = pickle.load(model_file)"
   ],
   "metadata": {
    "collapsed": false
   }
  },
  {
   "cell_type": "code",
   "execution_count": 918,
   "outputs": [],
   "source": [
    "# pr = my_model.predict(data['stemmed'])\n",
    "# balanced_accuracy_score(targets, pr)"
   ],
   "metadata": {
    "collapsed": false
   }
  }
 ],
 "metadata": {
  "kernelspec": {
   "display_name": "Python 3",
   "language": "python",
   "name": "python3"
  },
  "language_info": {
   "codemirror_mode": {
    "name": "ipython",
    "version": 2
   },
   "file_extension": ".py",
   "mimetype": "text/x-python",
   "name": "python",
   "nbconvert_exporter": "python",
   "pygments_lexer": "ipython2",
   "version": "2.7.6"
  }
 },
 "nbformat": 4,
 "nbformat_minor": 0
}
